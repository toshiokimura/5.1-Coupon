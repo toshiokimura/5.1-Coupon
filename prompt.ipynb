{
 "cells": [
  {
   "cell_type": "markdown",
   "metadata": {},
   "source": [
    "### Will a Customer Accept the Coupon?\n",
    "\n",
    "**Context**\n",
    "\n",
    "Imagine driving through town and a coupon is delivered to your cell phone for a restaraunt near where you are driving. Would you accept that coupon and take a short detour to the restaraunt? Would you accept the coupon but use it on a sunbsequent trip? Would you ignore the coupon entirely? What if the coupon was for a bar instead of a restaraunt? What about a coffee house? Would you accept a bar coupon with a minor passenger in the car? What about if it was just you and your partner in the car? Would weather impact the rate of acceptance? What about the time of day?\n",
    "\n",
    "Obviously, proximity to the business is a factor on whether the coupon is delivered to the driver or not, but what are the factors that determine whether a driver accepts the coupon once it is delivered to them? How would you determine whether a driver is likely to accept a coupon?\n",
    "\n",
    "**Overview**\n",
    "\n",
    "The goal of this project is to use what you know about visualizations and probability distributions to distinguish between customers who accepted a driving coupon versus those that did not.\n",
    "\n",
    "**Data**\n",
    "\n",
    "This data comes to us from the UCI Machine Learning repository and was collected via a survey on Amazon Mechanical Turk. The survey describes different driving scenarios including the destination, current time, weather, passenger, etc., and then ask the person whether he will accept the coupon if he is the driver. Answers that the user will drive there ‘right away’ or ‘later before the coupon expires’ are labeled as ‘Y = 1’ and answers ‘no, I do not want the coupon’ are labeled as ‘Y = 0’.  There are five different types of coupons -- less expensive restaurants (under \\\\$20), coffee houses, carry out & take away, bar, and more expensive restaurants (\\\\$20 - \\\\$50). "
   ]
  },
  {
   "cell_type": "markdown",
   "metadata": {},
   "source": [
    "**Deliverables**\n",
    "\n",
    "Your final product should be a brief report that highlights the differences between customers who did and did not accept the coupons.  To explore the data you will utilize your knowledge of plotting, statistical summaries, and visualization using Python. You will publish your findings in a public facing github repository as your first portfolio piece. \n",
    "\n",
    "\n",
    "\n"
   ]
  },
  {
   "cell_type": "markdown",
   "metadata": {},
   "source": [
    "### Data Description\n",
    "Keep in mind that these values mentioned below are average values.\n",
    "\n",
    "The attributes of this data set include:\n",
    "1. User attributes\n",
    "    -  Gender: male, female\n",
    "    -  Age: below 21, 21 to 25, 26 to 30, etc.\n",
    "    -  Marital Status: single, married partner, unmarried partner, or widowed\n",
    "    -  Number of children: 0, 1, or more than 1\n",
    "    -  Education: high school, bachelors degree, associates degree, or graduate degree\n",
    "    -  Occupation: architecture & engineering, business & financial, etc.\n",
    "    -  Annual income: less than \\\\$12500, \\\\$12500 - \\\\$24999, \\\\$25000 - \\\\$37499, etc.\n",
    "    -  Number of times that he/she goes to a bar: 0, less than 1, 1 to 3, 4 to 8 or greater than 8\n",
    "    -  Number of times that he/she buys takeaway food: 0, less than 1, 1 to 3, 4 to 8 or greater\n",
    "    than 8\n",
    "    -  Number of times that he/she goes to a coffee house: 0, less than 1, 1 to 3, 4 to 8 or\n",
    "    greater than 8\n",
    "    -  Number of times that he/she eats at a restaurant with average expense less than \\\\$20 per\n",
    "    person: 0, less than 1, 1 to 3, 4 to 8 or greater than 8\n",
    "    -  Number of times that he/she goes to a bar: 0, less than 1, 1 to 3, 4 to 8 or greater than 8\n",
    "    \n",
    "\n",
    "2. Contextual attributes\n",
    "    - Driving destination: home, work, or no urgent destination\n",
    "    - Location of user, coupon and destination: we provide a map to show the geographical\n",
    "    location of the user, destination, and the venue, and we mark the distance between each\n",
    "    two places with time of driving. The user can see whether the venue is in the same\n",
    "    direction as the destination.\n",
    "    - Weather: sunny, rainy, or snowy\n",
    "    - Temperature: 30F, 55F, or 80F\n",
    "    - Time: 10AM, 2PM, or 6PM\n",
    "    - Passenger: alone, partner, kid(s), or friend(s)\n",
    "\n",
    "\n",
    "3. Coupon attributes\n",
    "    - time before it expires: 2 hours or one day"
   ]
  },
  {
   "cell_type": "code",
   "execution_count": null,
   "metadata": {},
   "outputs": [],
   "source": [
    "import matplotlib.pyplot as plt\n",
    "import seaborn as sns\n",
    "import pandas as pd\n",
    "import numpy as np"
   ]
  },
  {
   "cell_type": "markdown",
   "metadata": {},
   "source": [
    "### Problems\n",
    "\n",
    "Use the prompts below to get started with your data analysis.  \n",
    "\n",
    "1. Read in the `coupons.csv` file.\n",
    "\n",
    "\n"
   ]
  },
  {
   "cell_type": "code",
   "execution_count": null,
   "metadata": {},
   "outputs": [],
   "source": [
    "data = pd.read_csv('data/coupons.csv')"
   ]
  },
  {
   "cell_type": "code",
   "execution_count": null,
   "metadata": {},
   "outputs": [],
   "source": [
    "data.head()"
   ]
  },
  {
   "cell_type": "markdown",
   "metadata": {},
   "source": [
    "2. Investigate the dataset for missing or problematic data."
   ]
  },
  {
   "cell_type": "markdown",
   "metadata": {},
   "source": [
    "Car has just 108 data set only, which is too small data to utilize."
   ]
  },
  {
   "cell_type": "code",
   "execution_count": null,
   "metadata": {
    "tags": []
   },
   "outputs": [],
   "source": [
    "data.info()"
   ]
  },
  {
   "cell_type": "markdown",
   "metadata": {},
   "source": [
    "Car is problematic due to just 108 data only. Number of  to Restaurants are missing in small number of dataset but it would be OK. Filled with "
   ]
  },
  {
   "cell_type": "code",
   "execution_count": null,
   "metadata": {
    "tags": []
   },
   "outputs": [],
   "source": [
    "data[\"age\"].replace(\"50plus\", \"50\", inplace=True) # Better handling for age data.\n",
    "data[\"age\"].replace(\"below21\", \"20\", inplace=True)\n",
    "data[\"age\"] = data[\"age\"].astype(\"int64\")\n",
    "data.info()"
   ]
  },
  {
   "cell_type": "markdown",
   "metadata": {},
   "source": [
    "3. Decide what to do about your missing data -- drop, replace, other..."
   ]
  },
  {
   "cell_type": "code",
   "execution_count": null,
   "metadata": {
    "tags": []
   },
   "outputs": [],
   "source": [
    "data = data.fillna('N/A')\n",
    "data.info()"
   ]
  },
  {
   "cell_type": "markdown",
   "metadata": {},
   "source": [
    "4. What proportion of the total observations chose to accept the coupon? \n",
    "\n"
   ]
  },
  {
   "cell_type": "code",
   "execution_count": null,
   "metadata": {
    "tags": []
   },
   "outputs": [],
   "source": [
    "coupon_accepted_count = data['Y'].sum()\n",
    "total_observations = len(data)\n",
    "proportion_accepted = coupon_accepted_count / total_observations\n",
    "proportion_accepted"
   ]
  },
  {
   "cell_type": "markdown",
   "metadata": {},
   "source": [
    "5. Use a bar plot to visualize the `coupon` column."
   ]
  },
  {
   "cell_type": "markdown",
   "metadata": {},
   "source": [
    "6. Use a histogram to visualize the temperature column."
   ]
  },
  {
   "cell_type": "code",
   "execution_count": null,
   "metadata": {
    "tags": []
   },
   "outputs": [],
   "source": [
    "#plt.figure(figsize=(8, 6))\n",
    "plt.hist(data['temperature'])\n",
    "plt.title('Distribution of Temperature')\n",
    "plt.xlabel('Temperature')\n",
    "plt.ylabel('Frequency')\n",
    "plt.show()"
   ]
  },
  {
   "cell_type": "markdown",
   "metadata": {},
   "source": [
    "**Investigating the Bar Coupons**\n",
    "\n",
    "Now, we will lead you through an exploration of just the bar related coupons.  \n",
    "\n",
    "1. Create a new `DataFrame` that contains just the bar coupons.\n"
   ]
  },
  {
   "cell_type": "code",
   "execution_count": null,
   "metadata": {
    "tags": []
   },
   "outputs": [],
   "source": [
    "data_bar = data[data[\"coupon\"] == \"Bar\"]\n",
    "data_bar.info()"
   ]
  },
  {
   "cell_type": "markdown",
   "metadata": {
    "tags": []
   },
   "source": [
    "data_bar[\"age\"].replace(\"50plus\", \"50\", inplace=True)\n",
    "data_bar[\"age\"].replace(\"below21\", \"20\", inplace=True)\n",
    "data_bar[\"age\"] = data_bar[\"age\"].astype(\"int64\")\n",
    "data_bar.info()"
   ]
  },
  {
   "cell_type": "markdown",
   "metadata": {},
   "source": [
    "2. What proportion of bar coupons were accepted?\n"
   ]
  },
  {
   "cell_type": "code",
   "execution_count": null,
   "metadata": {
    "tags": []
   },
   "outputs": [],
   "source": [
    "bar_accepted = data_bar[data_bar[\"Y\"] == 1]\n",
    "bar_accepted_ratio = len(bar_accepted) / len(data_bar)\n",
    "bar_accepted_ratio"
   ]
  },
  {
   "cell_type": "markdown",
   "metadata": {},
   "source": [
    "3. Compare the acceptance rate between those who went to a bar 3 or fewer times a month to those who went more."
   ]
  },
  {
   "cell_type": "code",
   "execution_count": null,
   "metadata": {
    "tags": []
   },
   "outputs": [],
   "source": [
    "f_3fewer = [\"never\", \"less1\", \"1~3\"]\n",
    "f_1more = [\"1~3\", \"4~8\", \"gt8\"]\n",
    "f_4more = [\"4~8\", \"gt8\"]\n",
    "data_bar.groupby(\"Bar\")[\"Y\"].count()"
   ]
  },
  {
   "cell_type": "code",
   "execution_count": null,
   "metadata": {
    "tags": []
   },
   "outputs": [],
   "source": [
    "data_bar_3fewer = data_bar[data_bar['Bar'].isin(f_3fewer)]\n",
    "bar_accepted_ratio_3fewer = data_bar_3fewer[\"Y\"].sum() / len(data_bar_3fewer)\n",
    "bar_accepted_ratio_3fewer"
   ]
  },
  {
   "cell_type": "code",
   "execution_count": null,
   "metadata": {
    "tags": []
   },
   "outputs": [],
   "source": [
    "data_bar_4more = data_bar[data_bar['Bar'].isin(f_4more)]\n",
    "bar_accepted_ratio_4more = data_bar_4more[\"Y\"].sum() / len(data_bar_4more)\n",
    "bar_accepted_ratio_4more"
   ]
  },
  {
   "cell_type": "markdown",
   "metadata": {},
   "source": [
    "37% vs. 77%!!"
   ]
  },
  {
   "cell_type": "markdown",
   "metadata": {},
   "source": [
    "4. Compare the acceptance rate between drivers who go to a bar more than once a month and are over the age of 25 to the all others.  Is there a difference?\n"
   ]
  },
  {
   "cell_type": "code",
   "execution_count": null,
   "metadata": {
    "tags": []
   },
   "outputs": [],
   "source": [
    "# I assume this quesiton if 1 or more than once a mont\n",
    "data_bar_1more = data_bar[data_bar['Bar'].isin([\"1~3\", \"4~8\", \"gt8\"])]"
   ]
  },
  {
   "cell_type": "code",
   "execution_count": null,
   "metadata": {
    "tags": []
   },
   "outputs": [],
   "source": [
    "data_bar_1more[\"age\"].replace(\"50plus\", \"50\", inplace=True)\n",
    "data_bar_1more[\"age\"].replace(\"below21\", \"20\", inplace=True)\n",
    "data_bar_1more[\"age\"] = data_bar_1more[\"age\"].astype(\"int64\")\n",
    "data_bar_1more.info()"
   ]
  },
  {
   "cell_type": "code",
   "execution_count": null,
   "metadata": {
    "tags": []
   },
   "outputs": [],
   "source": [
    "data_bar_1more[data_bar_1more[\"age\"] > 25][\"Y\"].sum() / data_bar_1more[data_bar_1more[\"age\"] > 25][\"Y\"].count()"
   ]
  },
  {
   "cell_type": "code",
   "execution_count": null,
   "metadata": {
    "tags": []
   },
   "outputs": [],
   "source": [
    "data_bar[\"Y\"].sum()"
   ]
  },
  {
   "cell_type": "code",
   "execution_count": null,
   "metadata": {
    "tags": []
   },
   "outputs": [],
   "source": [
    "data_bar_1more[data_bar_1more[\"age\"] > 25][\"Y\"].sum()"
   ]
  },
  {
   "cell_type": "code",
   "execution_count": null,
   "metadata": {
    "tags": []
   },
   "outputs": [],
   "source": [
    "data_bar[\"Y\"].count()"
   ]
  },
  {
   "cell_type": "code",
   "execution_count": null,
   "metadata": {
    "tags": []
   },
   "outputs": [],
   "source": [
    "data_bar_1more[data_bar_1more[\"age\"] > 25][\"Y\"].count()"
   ]
  },
  {
   "cell_type": "code",
   "execution_count": null,
   "metadata": {
    "tags": []
   },
   "outputs": [],
   "source": [
    "(data_bar[\"Y\"].sum() - data_bar_1more[data_bar_1more[\"age\"] > 25][\"Y\"].sum()) / (data_bar[\"Y\"].count() - data_bar_1more[data_bar_1more[\"age\"] > 25][\"Y\"].count())"
   ]
  },
  {
   "cell_type": "markdown",
   "metadata": {},
   "source": [
    "There is a huge difference 70% vs. 34%."
   ]
  },
  {
   "cell_type": "markdown",
   "metadata": {},
   "source": [
    "5. Use the same process to compare the acceptance rate between drivers who go to bars more than once a month and had passengers that were not a kid and had occupations other than farming, fishing, or forestry. \n"
   ]
  },
  {
   "cell_type": "code",
   "execution_count": null,
   "metadata": {
    "tags": []
   },
   "outputs": [],
   "source": [
    "a = data_bar[(data_bar[\"Bar\"].isin([\"1~3\", \"4~8\", \"gt8\"])) & (data_bar[\"passanger\"] != \"Kid(s)\") & (data_bar[\"occupation\"] != (\"Farming Fishing & Forestry\"))][\"Y\"].count()\n",
    "b = data_bar[(data_bar[\"Bar\"].isin([\"1~3\", \"4~8\", \"gt8\"])) & (data_bar[\"passanger\"] != \"Kid(s)\") & (data_bar[\"occupation\"] != (\"Farming Fishing & Forestry\"))][\"Y\"].sum()\n",
    "c = b/a \n",
    "print(a)\n",
    "print(b)\n",
    "print(c)"
   ]
  },
  {
   "cell_type": "markdown",
   "metadata": {},
   "source": [
    "6. Compare the acceptance rates between those drivers who:\n",
    "\n",
    "- go to bars more than once a month, had passengers that were not a kid, and were not widowed *OR*\n",
    "- go to bars more than once a month and are under the age of 30 *OR*\n",
    "- go to cheap restaurants more than 4 times a month and income is less than 50K. \n",
    "\n"
   ]
  },
  {
   "cell_type": "code",
   "execution_count": null,
   "metadata": {
    "tags": []
   },
   "outputs": [],
   "source": [
    "a = data_bar[(data_bar[\"Bar\"].isin([\"1~3\", \"4~8\", \"gt8\"])) & (data_bar[\"passanger\"] != \"Kid(s)\") & (data_bar[\"maritalStatus\"] != (\"Widowed\"))][\"Y\"].count()\n",
    "b = data_bar[(data_bar[\"Bar\"].isin([\"1~3\", \"4~8\", \"gt8\"])) & (data_bar[\"passanger\"] != \"Kid(s)\") & (data_bar[\"maritalStatus\"] != (\"Widowed\"))][\"Y\"].sum()\n",
    "c = b/a \n",
    "print(a)\n",
    "print(b)\n",
    "print(c)"
   ]
  },
  {
   "cell_type": "code",
   "execution_count": null,
   "metadata": {
    "tags": []
   },
   "outputs": [],
   "source": [
    "a = data_bar_1more[(data_bar_1more[\"age\"] < 30)][\"Y\"].count()\n",
    "b = data_bar_1more[(data_bar_1more[\"age\"] < 30)][\"Y\"].sum()\n",
    "c = b/a \n",
    "print(a)\n",
    "print(b)\n",
    "print(c)"
   ]
  },
  {
   "cell_type": "code",
   "execution_count": null,
   "metadata": {
    "tags": []
   },
   "outputs": [],
   "source": [
    "a = data_bar[(data_bar[\"RestaurantLessThan20\"].isin([\"4~8\", \"gt8\"])) & (data_bar[\"income\"].isin([\"Less than $12500\", \"$12500 - $24999\", \"$25000 - $37499\", \"$37500 - $49999\"]))][\"Y\"].count()\n",
    "b = data_bar[(data_bar[\"RestaurantLessThan20\"].isin([\"4~8\", \"gt8\"])) & (data_bar[\"income\"].isin([\"Less than $12500\", \"$12500 - $24999\", \"$25000 - $37499\", \"$37500 - $49999\"]))][\"Y\"].sum()\n",
    "c = b/a \n",
    "print(a)\n",
    "print(b)\n",
    "print(c)"
   ]
  },
  {
   "cell_type": "markdown",
   "metadata": {},
   "source": [
    "7.  Based on these observations, what do you hypothesize about drivers who accepted the bar coupons?"
   ]
  },
  {
   "cell_type": "markdown",
   "metadata": {},
   "source": [
    "Those who go to Bar frequently will be more likely to recieve the Bar coupon in general."
   ]
  },
  {
   "cell_type": "markdown",
   "metadata": {},
   "source": [
    "### Independent Investigation\n",
    "\n",
    "Using the bar coupon example as motivation, you are to explore one of the other coupon groups and try to determine the characteristics of passengers who accept the coupons.  "
   ]
  },
  {
   "cell_type": "code",
   "execution_count": null,
   "metadata": {
    "tags": []
   },
   "outputs": [],
   "source": [
    "data_coffee = data[data[\"coupon\"] == \"Coffee House\"]\n",
    "data_coffee.info()"
   ]
  },
  {
   "cell_type": "markdown",
   "metadata": {},
   "source": [
    "5:5-15min, 15:15-25min, 25:25+min"
   ]
  },
  {
   "cell_type": "code",
   "execution_count": null,
   "metadata": {
    "tags": []
   },
   "outputs": [],
   "source": [
    "data[\"toCoupon_GEQ5_15_25min\"] = data[\"toCoupon_GEQ15min\"].add(data[\"toCoupon_GEQ25min\"])\n",
    "data[\"toCoupon_GEQ5_15_25min\"] = data[\"toCoupon_GEQ5_15_25min\"]*10+5    #Tricky adjustment so values are equal to min ranges.\n",
    "data"
   ]
  },
  {
   "cell_type": "code",
   "execution_count": null,
   "metadata": {
    "tags": []
   },
   "outputs": [],
   "source": []
  },
  {
   "cell_type": "code",
   "execution_count": null,
   "metadata": {
    "tags": []
   },
   "outputs": [],
   "source": [
    "data_coffee = data[data[\"coupon\"] == \"Coffee House\"]"
   ]
  },
  {
   "cell_type": "markdown",
   "metadata": {
    "tags": []
   },
   "source": [
    "data_temp = data_Res20_50\n",
    "ratio_temp = data_temp.groupby([\"toCoupon_GEQ5_15_25min\", \"direction_same\"])[\"Y\"].sum() / data_temp.groupby([\"toCoupon_GEQ5_15_25min\",\"direction_same\"])[\"Y\"].count()\n",
    "ratio_temp"
   ]
  },
  {
   "cell_type": "code",
   "execution_count": null,
   "metadata": {
    "tags": []
   },
   "outputs": [],
   "source": [
    "data_Res20_50 = data[data[\"coupon\"] == \"Restaurant(20-50)\"]"
   ]
  },
  {
   "cell_type": "markdown",
   "metadata": {},
   "source": [
    "All graph"
   ]
  },
  {
   "cell_type": "code",
   "execution_count": null,
   "metadata": {
    "tags": []
   },
   "outputs": [],
   "source": [
    "categorical_columns = ['destination', 'passanger',\n",
    "                       'weather', 'temperature', 'time',\n",
    "                       'coupon', 'expiration',\n",
    "                       'gender','age',\n",
    "                       'maritalStatus', 'has_children',\n",
    "                       'education', 'occupation', 'income', \"Bar\", \"CoffeeHouse\", \"CarryAway\", \"RestaurantLessThan20\", \"Restaurant20To50\", \"toCoupon_GEQ5min\", \"toCoupon_GEQ15min\", \"toCoupon_GEQ25min\", \"direction_same\", \"direction_opp\"]\n",
    "\n",
    "\n",
    "plt.figure(figsize=(15, 200))\n",
    "#num_rows = len(categorical_columns) // 2\n",
    "num_rows = 24\n",
    "num_cols = 2\n",
    "\n",
    "#for column in categorical_columns:\n",
    "for i, column in enumerate(categorical_columns, start=1):\n",
    "\n",
    "        data_temp = data_coffee\n",
    "        plt.subplot(num_rows, num_cols, i*2-1)\n",
    "        sns.countplot(data_temp, x=column, hue=\"Y\")\n",
    "        plt.title(column)\n",
    "        plt.xticks(rotation=90)\n",
    "\n",
    "        for category in data_temp[column].unique():\n",
    "            category_mean = data_temp[data_temp[column] == category][\"Y\"].mean()\n",
    "            plt.text(data_temp[column].unique().tolist().index(category), data_temp[column].value_counts().max() / 3,\n",
    "                     f'Mean: {category_mean:.2f}', ha='center', va='center', color='black', fontweight='bold', rotation=70)\n",
    "\n",
    "#    plt.tight_layout()\n",
    "#    plt.show()\n",
    "\n",
    "        data_temp = data_Res20_50\n",
    "        plt.subplot(num_rows, num_cols, i*2)\n",
    "        sns.countplot(data_temp, x=column, hue=\"Y\")\n",
    "        plt.title(column)\n",
    "        plt.xticks(rotation=90)\n",
    "\n",
    "        for category in data_temp[column].unique():\n",
    "            category_mean = data_temp[data_temp[column] == category][\"Y\"].mean()\n",
    "            plt.text(data_temp[column].unique().tolist().index(category), data_temp[column].value_counts().max() / 3,\n",
    "                     f'Mean: {category_mean:.2f}', ha='center', va='center', color='black', fontweight='bold', rotation=70)\n",
    "\n",
    "plt.tight_layout()\n",
    "plt.show()\n",
    "\n",
    "\n",
    "                        # Left Coffee House Graphs                                                                        # Right Restaurant $20-$50\n"
   ]
  },
  {
   "cell_type": "code",
   "execution_count": null,
   "metadata": {
    "tags": []
   },
   "outputs": [],
   "source": [
    "c = data_Res20_50.groupby([\"direction_same\", \"toCoupon_GEQ25min\"])[\"Y\"].sum() / data_Res20_50.groupby([\"direction_same\", \"toCoupon_GEQ25min\"])[\"Y\"].count()\n",
    "c"
   ]
  },
  {
   "cell_type": "code",
   "execution_count": null,
   "metadata": {},
   "outputs": [],
   "source": []
  },
  {
   "cell_type": "code",
   "execution_count": null,
   "metadata": {
    "tags": []
   },
   "outputs": [],
   "source": [
    "ratio_coffee = data[data[\"coupon\"] == \"Coffee House\"].groupby([\"toCoupon_GEQ5_15_25min\", \"direction_same\"])[\"Y\"].sum() / data[data[\"coupon\"] == \"Coffee House\"].groupby([\"toCoupon_GEQ5_15_25min\",\"direction_same\"])[\"Y\"].count()\n",
    "ratio_coffee"
   ]
  },
  {
   "cell_type": "code",
   "execution_count": null,
   "metadata": {
    "tags": []
   },
   "outputs": [],
   "source": [
    "ratio_Res20_50 = data[data[\"coupon\"] == \"Restaurant(20-50)\"].groupby([\"toCoupon_GEQ5_15_25min\", \"direction_same\"])[\"Y\"].sum() / data[data[\"coupon\"] == \"Restaurant(20-50)\"].groupby([\"toCoupon_GEQ5_15_25min\",\"direction_same\"])[\"Y\"].count()\n",
    "ratio_Res20_50"
   ]
  },
  {
   "cell_type": "code",
   "execution_count": null,
   "metadata": {
    "tags": []
   },
   "outputs": [],
   "source": [
    "fig, (ax1, ax2) = plt.subplots(1, 2, figsize=(15, 5))\n",
    "        \n",
    "# First subplot\n",
    "unstacked_data_coffee = ratio_coffee.unstack()\n",
    "#ax1.plot(unstacked_data_coffee.index, unstacked_data_coffee.values, marker='o')\n",
    "ax1.plot(unstacked_data_coffee, marker='o', label=['Opposit Direction', 'Same Direction'])\n",
    "\n",
    "ax1.set_ylim(0.3, 0.6)\n",
    "ax1.set_yticks([0.3, 0.4, 0.5, 0.6])\n",
    "ax1.set_title('Coffee House: Acceptance Ratio by Distance (min-) and Direction')\n",
    "ax1.legend()\n",
    "\n",
    "# Second subplot\n",
    "unstacked_data_Res20_50 = ratio_Res20_50.unstack()\n",
    "ax2.plot(unstacked_data_Res20_50.index, unstacked_data_Res20_50.values, marker='o', label=['Opposit Direction', 'Same Direction'])\n",
    "ax2.set_ylim(0.3, 0.6)\n",
    "ax2.set_yticks([0.3, 0.4, 0.5, 0.6])\n",
    "ax2.set_title('Restaurant $20 to 50: Acceptance Ratio by Distance (min-) and Direction')\n",
    "ax2.legend()\n",
    "\n",
    "plt.tight_layout()\n",
    "plt.show()"
   ]
  },
  {
   "cell_type": "code",
   "execution_count": null,
   "metadata": {},
   "outputs": [],
   "source": []
  }
 ],
 "metadata": {
  "kernelspec": {
   "display_name": "Python 3 (ipykernel)",
   "language": "python",
   "name": "python3"
  },
  "language_info": {
   "codemirror_mode": {
    "name": "ipython",
    "version": 3
   },
   "file_extension": ".py",
   "mimetype": "text/x-python",
   "name": "python",
   "nbconvert_exporter": "python",
   "pygments_lexer": "ipython3",
   "version": "3.11.5"
  },
  "widgets": {
   "application/vnd.jupyter.widget-state+json": {
    "state": {},
    "version_major": 2,
    "version_minor": 0
   }
  }
 },
 "nbformat": 4,
 "nbformat_minor": 4
}
